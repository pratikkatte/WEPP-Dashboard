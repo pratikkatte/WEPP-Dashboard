{
 "cells": [
  {
   "cell_type": "markdown",
   "metadata": {},
   "source": [
    "# Adding Special Sequence"
   ]
  },
  {
   "cell_type": "code",
   "execution_count": 12,
   "metadata": {},
   "outputs": [],
   "source": [
    "import pysam"
   ]
  },
  {
   "cell_type": "code",
   "execution_count": 20,
   "metadata": {},
   "outputs": [],
   "source": [
    "import pysam\n",
    "\n",
    "# Open the input BAM file\n",
    "input_bam = pysam.AlignmentFile(\"./output_multi.bam\", \"rb\")\n",
    "output_bam = pysam.AlignmentFile(\"output_multi_sp_tag.bam\", \"wb\", header=input_bam.header)\n",
    "\n",
    "# Iterate through reads and modify the first read\n",
    "first_read = True\n",
    "for read in input_bam:\n",
    "    if first_read:\n",
    "        # Add the SP tag to the first read\n",
    "        read.set_tag(\"SP\", \"1\")\n",
    "        first_read = False\n",
    "    # Write the modified/unchanged reads to the output BAM\n",
    "    output_bam.write(read)\n",
    "\n",
    "# Close the files\n",
    "input_bam.close()\n",
    "output_bam.close()\n"
   ]
  },
  {
   "cell_type": "code",
   "execution_count": 21,
   "metadata": {},
   "outputs": [],
   "source": [
    "input_bam = pysam.AlignmentFile(\"./output_multi_sp_tag.bam\", \"rb\")\n"
   ]
  },
  {
   "cell_type": "code",
   "execution_count": 22,
   "metadata": {},
   "outputs": [
    {
     "name": "stdout",
     "output_type": "stream",
     "text": [
      "SRR28230429.1817017.1\t2048\t#0\t24\t60\t40H52M204H\t*\t0\t0\tGTAACAAACCAACCAACTTTTGATCTCTTGTAGATCTGTTCTCTAAACGAAC\tarray('B', [30, 30, 30, 30, 30, 30, 30, 30, 30, 30, 30, 30, 30, 30, 30, 30, 30, 30, 30, 30, 30, 30, 30, 30, 30, 30, 30, 30, 30, 30, 30, 30, 30, 30, 30, 30, 30, 30, 30, 30, 30, 30, 30, 30, 30, 30, 30, 30, 30, 30, 30, 30])\t[('NM', 1), ('MD', '20C31'), ('AS', 47), ('XS', 0), ('SA', 'NC_045512.2,27385,+,83S22M1D74M1D115M2S,60,3;'), ('EP', 32), ('RG', 'group1,group2'), ('SP', '1')]\n"
     ]
    }
   ],
   "source": [
    "for read in input_bam:\n",
    "    print(read)\n",
    "    break"
   ]
  },
  {
   "cell_type": "code",
   "execution_count": 24,
   "metadata": {},
   "outputs": [
    {
     "data": {
      "text/plain": [
       "''"
      ]
     },
     "execution_count": 24,
     "metadata": {},
     "output_type": "execute_result"
    }
   ],
   "source": [
    "import pysam\n",
    "\n",
    "# Open the input BAM file\n",
    "input_bam = pysam.AlignmentFile(\"./output_multi_sp_tag.bam\", \"rb\")\n",
    "\n",
    "# Create the output BAM file with the same header as the input BAM\n",
    "output_bam = pysam.AlignmentFile(\"./special_output_mult_with_sp_tag.bam\", \"wb\", header=input_bam.header)\n",
    "\n",
    "# Iterate through reads in the input BAM file\n",
    "for read in input_bam:\n",
    "    # Check if the read has the 'SP' tag\n",
    "    if read.has_tag(\"SP\"):\n",
    "        # Write the read to the output BAM file\n",
    "        output_bam.write(read)\n",
    "\n",
    "# Close the BAM files\n",
    "input_bam.close()\n",
    "output_bam.close()\n",
    "\n",
    "pysam.sort(\"-o\", \"special_output_mult_with_sp_tag.bam\", \"special_output_mult_with_sp_tag.bam\")\n",
    "\n",
    "# Index the sorted BAM file\n",
    "pysam.index(\"special_output_mult_with_sp_tag.bam\")"
   ]
  },
  {
   "cell_type": "code",
   "execution_count": 2,
   "metadata": {},
   "outputs": [],
   "source": [
    "import pysam"
   ]
  },
  {
   "cell_type": "code",
   "execution_count": 1,
   "metadata": {},
   "outputs": [],
   "source": [
    "def selectNodes(uploaded_filenames):\n",
    "    \"\"\"\n",
    "    \"\"\"\n",
    "    array = [\"USA/UT-UPHL-220121588727/2021\", \"EGY/CCHE57357_Wave_4_142/2021\"]\n",
    "    file_dict = {}\n",
    "    # saved_filenames = []\n",
    "    # if uploadtype=='file':\n",
    "    #     for file in uploaded_filenames:\n",
    "    #         filename = secure_filename(file.filename)\n",
    "    #         # Save file\n",
    "    #         save_path = os.path.join(app.config['UPLOAD_FOLDER'], filename)\n",
    "    #         file.save(save_path)\n",
    "    #         saved_filenames.append(filename)\n",
    "    # else:\n",
    "    #     saved_filenames = uploaded_filenames\n",
    "    print(uploaded_filenames)\n",
    "    for filename in uploaded_filenames:\n",
    "        try:\n",
    "            bam = pysam.AlignmentFile(filename, 'rb')\n",
    "            headers = bam.header\n",
    "            read_groups = headers.get('RG', [])\n",
    "            if read_groups==None:\n",
    "                file_dict[random.choice(array)] = {\"filename\": filename, \"groupname\": \"\"}\n",
    "            else:\n",
    "                if len(read_groups) > 0:\n",
    "                    for read_group in read_groups:\n",
    "                        node_name = read_group['DS'].replace(\"Node:\",\"\")\n",
    "                        group_name = read_group['ID']\n",
    "                        file_dict[node_name] = {\"filename\":filename, \"groupname\":group_name}\n",
    "        except Exception as e:\n",
    "            print(\"error\",e)\n",
    "            return file_dict\n",
    "        \n",
    "    print(\"file_dict\",file_dict)\n",
    "    return file_dict\n"
   ]
  },
  {
   "cell_type": "code",
   "execution_count": 5,
   "metadata": {},
   "outputs": [
    {
     "name": "stdout",
     "output_type": "stream",
     "text": [
      "['/home/pratik/git/taxonium/server/app/data/modified_example.bam']\n",
      "file_dict {'Germany/IMS-10209-CVDP-D48209F5-5BED-436E-BFC4-D2118C232BC4/2021': {'filename': '/home/pratik/git/taxonium/server/app/data/modified_example.bam', 'groupname': 'group1'}, 'England/PHEC-Z306ZA27/2021': {'filename': '/home/pratik/git/taxonium/server/app/data/modified_example.bam', 'groupname': 'group2'}, 'Germany/IMS-10023-CVDP-9F618D1B-27DC-4078-8537-C4F2C95A028E/2021': {'filename': '/home/pratik/git/taxonium/server/app/data/modified_example.bam', 'groupname': 'group3'}, 'USA/CA-CDC-ASC210274374/2021': {'filename': '/home/pratik/git/taxonium/server/app/data/modified_example.bam', 'groupname': 'group4'}, 'USA/WI-CDC-LC0062056/2021': {'filename': '/home/pratik/git/taxonium/server/app/data/modified_example.bam', 'groupname': 'group5'}, 'England/PHEC-5X086Z21/2022': {'filename': '/home/pratik/git/taxonium/server/app/data/modified_example.bam', 'groupname': 'group6'}, 'Germany/IMS-10183-CVDP-FB646A2A-A52E-4AD9-A820-1BBD23E9797E/2022': {'filename': '/home/pratik/git/taxonium/server/app/data/modified_example.bam', 'groupname': 'group7'}, 'England/DHSC-CYD3IMU/2021': {'filename': '/home/pratik/git/taxonium/server/app/data/modified_example.bam', 'groupname': 'group8'}, 'Switzerland/TI-ETHZ-34661679/2021': {'filename': '/home/pratik/git/taxonium/server/app/data/modified_example.bam', 'groupname': 'group9'}, 'deer/USA/OH-OSU-2327/2021': {'filename': '/home/pratik/git/taxonium/server/app/data/modified_example.bam', 'groupname': 'group10'}}\n"
     ]
    },
    {
     "data": {
      "text/plain": [
       "{'Germany/IMS-10209-CVDP-D48209F5-5BED-436E-BFC4-D2118C232BC4/2021': {'filename': '/home/pratik/git/taxonium/server/app/data/modified_example.bam',\n",
       "  'groupname': 'group1'},\n",
       " 'England/PHEC-Z306ZA27/2021': {'filename': '/home/pratik/git/taxonium/server/app/data/modified_example.bam',\n",
       "  'groupname': 'group2'},\n",
       " 'Germany/IMS-10023-CVDP-9F618D1B-27DC-4078-8537-C4F2C95A028E/2021': {'filename': '/home/pratik/git/taxonium/server/app/data/modified_example.bam',\n",
       "  'groupname': 'group3'},\n",
       " 'USA/CA-CDC-ASC210274374/2021': {'filename': '/home/pratik/git/taxonium/server/app/data/modified_example.bam',\n",
       "  'groupname': 'group4'},\n",
       " 'USA/WI-CDC-LC0062056/2021': {'filename': '/home/pratik/git/taxonium/server/app/data/modified_example.bam',\n",
       "  'groupname': 'group5'},\n",
       " 'England/PHEC-5X086Z21/2022': {'filename': '/home/pratik/git/taxonium/server/app/data/modified_example.bam',\n",
       "  'groupname': 'group6'},\n",
       " 'Germany/IMS-10183-CVDP-FB646A2A-A52E-4AD9-A820-1BBD23E9797E/2022': {'filename': '/home/pratik/git/taxonium/server/app/data/modified_example.bam',\n",
       "  'groupname': 'group7'},\n",
       " 'England/DHSC-CYD3IMU/2021': {'filename': '/home/pratik/git/taxonium/server/app/data/modified_example.bam',\n",
       "  'groupname': 'group8'},\n",
       " 'Switzerland/TI-ETHZ-34661679/2021': {'filename': '/home/pratik/git/taxonium/server/app/data/modified_example.bam',\n",
       "  'groupname': 'group9'},\n",
       " 'deer/USA/OH-OSU-2327/2021': {'filename': '/home/pratik/git/taxonium/server/app/data/modified_example.bam',\n",
       "  'groupname': 'group10'}}"
      ]
     },
     "execution_count": 5,
     "metadata": {},
     "output_type": "execute_result"
    }
   ],
   "source": [
    "files = ['/home/pratik/git/taxonium/server/app/data/modified_example.bam']\n",
    "selectNodes(files)"
   ]
  },
  {
   "cell_type": "code",
   "execution_count": 6,
   "metadata": {},
   "outputs": [
    {
     "data": {
      "text/plain": [
       "49"
      ]
     },
     "execution_count": 6,
     "metadata": {},
     "output_type": "execute_result"
    }
   ],
   "source": [
    "import numpy as np\n",
    "np.random.randint(0,60)"
   ]
  },
  {
   "cell_type": "code",
   "execution_count": 3,
   "metadata": {},
   "outputs": [],
   "source": [
    "import pysam\n",
    "import numpy as np\n",
    "\n",
    "# Open the original BAM file\n",
    "input_bam = pysam.AlignmentFile(\"./app/data/SRR28230429.bam\", \"r\")\n",
    "# Create a new BAM file to save the modified reads\n",
    "output_bam = pysam.AlignmentFile(\"output_multi.bam\", \"wb\", header=input_bam.header)\n",
    "\n",
    "# Loop through each read in the original BAM file\n",
    "for read in input_bam:\n",
    "    # Add the tag; 'XX' is the tag identifier and 99 is the value\n",
    "    \n",
    "    read.set_tag('EP', np.random.randint(0,60), value_type='i')  # 'i' denotes that the value is an integer\n",
    "    read.set_tag('RG', 'group1,group2', value_type='Z')\n",
    "    # Write the modified read to the new BAM file\n",
    "    output_bam.write(read)\n",
    "\n",
    "# Close the files\n",
    "input_bam.close()\n",
    "output_bam.close()"
   ]
  },
  {
   "cell_type": "code",
   "execution_count": 9,
   "metadata": {},
   "outputs": [
    {
     "data": {
      "text/plain": [
       "[{'ID': 'group1',\n",
       "  'DS': 'Node:Germany/IMS-10209-CVDP-D48209F5-5BED-436E-BFC4-D2118C232BC4/2021'},\n",
       " {'ID': 'group2', 'DS': 'Node:England/PHEC-Z306ZA27/2021'}]"
      ]
     },
     "execution_count": 9,
     "metadata": {},
     "output_type": "execute_result"
    }
   ],
   "source": [
    "import pysam\n",
    "input_bam = pysam.AlignmentFile(\"./output.bam\", \"r\")\n",
    "input_bam.header.as_dict()['RG']"
   ]
  },
  {
   "cell_type": "code",
   "execution_count": 6,
   "metadata": {},
   "outputs": [
    {
     "data": {
      "text/plain": [
       "OrderedDict([('HD', {'VN': '1.0', 'SO': 'coordinate'}),\n",
       "             ('SQ', [{'SN': 'NC_045512v2', 'LN': 29903}]),\n",
       "             ('PG',\n",
       "              [{'ID': 'bowtie2',\n",
       "                'PN': 'bowtie2',\n",
       "                'VN': '2.4.4',\n",
       "                'CL': '\"/home/pgangwar@AD.UCSD.EDU/mambaforge/envs/SWAMPy/bin/bowtie2-align-s --wrapper basic-0 -x golden_mixture1_v41_control/temp//ref_index -S golden_mixture1_v41_control/my_vcf_alignment.sam -U golden_mixture1_v41_control/my_vcf_reads.fastq\"'},\n",
       "               {'ID': 'samtools',\n",
       "                'PN': 'samtools',\n",
       "                'PP': 'bowtie2',\n",
       "                'VN': '1.18',\n",
       "                'CL': 'samtools view -Sb customised_my_vcf_NODE-1.sam'},\n",
       "               {'ID': 'samtools.1',\n",
       "                'PN': 'samtools',\n",
       "                'PP': 'samtools',\n",
       "                'VN': '1.18',\n",
       "                'CL': 'samtools sort -o customised_my_vcf_NODE-1.bam'}]),\n",
       "             ('RG',\n",
       "              [{'ID': 'group1', 'DS': 'Node:USA/CA-CDC-ASC210274374/2021'}])])"
      ]
     },
     "execution_count": 6,
     "metadata": {},
     "output_type": "execute_result"
    }
   ],
   "source": [
    "# input_bam.header.as_dict()\n",
    "pysam.AlignmentFile(\"./app/data/customised_my_vcf_NODE-1.bam\", \"r\").header.as_dict()"
   ]
  },
  {
   "cell_type": "code",
   "execution_count": 29,
   "metadata": {},
   "outputs": [
    {
     "name": "stdout",
     "output_type": "stream",
     "text": [
      "SRR28028212.21649.1\t0\t#0\t1\t0\t3M48I15M2D11M3I33M3D83M2I14M1I11M1I80M1D14M1D27M2D29M1I176M1I26M2I10M1I2M1I26M1I13M\t*\t0\t0\tACAACATGCAGTTTACCAGACACAAAATGTCTTGTCCGCAATCAATCTATTAAAGGTTTATACCTTTGGGTAACAAATAGCCAACCAACTTTCGATCTCTTGTAGATCTATACAAACGAACTTTAAAATCTGTGTGGCTGTCACTCGGCTGCATGCTTGGTGCACTCACGCAGTATAATTAATAACTAATTACTGTCACGTTGACAGGACACAGAGTAACTCGTCCTATCTTCTGCAGGCTGCTTGCGGTTTCGTCCGTGTTGCAGCCGATCATCAACACATCTAGGTTCAGTCCGGGTGTGACCAAAGGTAAGATGGAAGCCTTGTCCCTGGTTTCAACGAGAAAACACGTCCAACTCCAGTTTGCTGTTTCACAAGGTTCGCGACGTGCTCGTGCGTGGCTTTGGAGACTCCGTGGAGGAGGTCTTATCAGAGGCACGTCAACATCTTAAAGATGGCACTTGTGGCTTAGTAGAAGTTGAAAAGGCGTTTTTGCCTCAACTTGAACAGCCCTATGTGTTCATCAAACGTTCGGATGCTCGAACTGCACCTGCTCAGTCATGTTATGGTTGAACTGGTACAGCAGAACAAAGAGAGGCATTCAGTACGGTCGTAGTGTTGAAGACACTTGGTGA\tarray('B', [29, 29, 27, 20, 16, 11, 10, 10, 10, 7, 6, 6, 8, 6, 7, 8, 6, 5, 6, 6, 3, 3, 4, 4, 3, 4, 5, 7, 9, 9, 5, 4, 4, 4, 13, 19, 10, 9, 9, 18, 19, 24, 28, 6, 5, 7, 10, 11, 17, 18, 18, 17, 20, 11, 16, 23, 18, 19, 13, 17, 22, 18, 19, 19, 17, 24, 8, 6, 6, 5, 6, 10, 14, 11, 11, 11, 8, 4, 4, 4, 5, 5, 5, 6, 23, 24, 24, 31, 34, 34, 35, 28, 31, 21, 21, 24, 30, 34, 36, 33, 33, 32, 32, 30, 24, 24, 24, 23, 24, 12, 11, 11, 9, 8, 8, 7, 6, 6, 6, 12, 24, 26, 27, 26, 21, 19, 18, 26, 26, 35, 32, 30, 27, 28, 90, 20, 11, 11, 13, 21, 24, 31, 13, 11, 10, 11, 10, 8, 8, 10, 10, 16, 13, 12, 11, 6, 5, 5, 4, 4, 4, 5, 9, 17, 18, 19, 20, 12, 12, 10, 11, 12, 13, 22, 27, 30, 37, 36, 35, 32, 32, 34, 31, 29, 37, 34, 36, 37, 37, 34, 37, 28, 27, 22, 21, 21, 21, 7, 6, 7, 8, 12, 14, 16, 11, 11, 11, 17, 17, 26, 27, 30, 8, 5, 5, 10, 11, 18, 21, 25, 27, 27, 21, 21, 24, 16, 11, 12, 14, 14, 15, 23, 36, 34, 30, 29, 29, 27, 27, 27, 28, 33, 32, 8, 8, 6, 6, 6, 11, 19, 22, 28, 16, 14, 14, 17, 17, 17, 17, 18, 18, 16, 16, 18, 18, 17, 18, 18, 19, 21, 33, 34, 31, 29, 27, 25, 14, 14, 13, 9, 17, 17, 25, 9, 5, 4, 4, 5, 9, 7, 6, 6, 6, 7, 14, 13, 15, 18, 20, 25, 15, 32, 28, 27, 14, 7, 6, 5, 6, 6, 6, 6, 9, 11, 17, 28, 23, 23, 18, 14, 13, 13, 13, 12, 12, 10, 9, 9, 10, 10, 13, 19, 20, 20, 25, 29, 30, 29, 25, 23, 22, 16, 14, 13, 11, 8, 7, 7, 5, 4, 7, 9, 13, 9, 9, 11, 12, 12, 12, 9, 6, 6, 8, 8, 12, 12, 19, 19, 18, 6, 6, 6, 5, 2, 3, 3, 4, 5, 7, 7, 11, 29, 23, 22, 22, 22, 27, 27, 29, 29, 27, 28, 28, 23, 19, 8, 8, 8, 8, 18, 18, 19, 20, 25, 27, 32, 34, 31, 25, 25, 24, 23, 25, 24, 21, 22, 24, 25, 24, 18, 12, 8, 8, 14, 13, 12, 13, 13, 16, 19, 25, 8, 7, 7, 7, 12, 10, 9, 11, 15, 20, 27, 17, 14, 16, 16, 16, 28, 25, 25, 23, 24, 22, 26, 23, 23, 22, 22, 27, 26, 25, 26, 25, 27, 27, 24, 23, 23, 28, 31, 29, 28, 25, 29, 32, 29, 29, 26, 29, 30, 23, 21, 19, 19, 18, 17, 9, 7, 5, 5, 7, 9, 22, 17, 22, 30, 29, 31, 31, 27, 10, 8, 8, 9, 19, 19, 16, 25, 20, 19, 19, 19, 20, 24, 19, 17, 17, 21, 29, 30, 31, 30, 29, 29, 33, 24, 23, 23, 22, 23, 22, 21, 21, 7, 7, 15, 18, 6, 6, 6, 6, 7, 8, 24, 28, 29, 30, 30, 26, 25, 20, 9, 5, 4, 3, 4, 3, 3, 4, 5, 6, 7, 8, 6, 4, 4, 4, 5, 20, 19, 19, 13, 7, 5, 5, 5, 5, 11, 11, 11, 12, 9, 8, 8, 11, 17, 11, 11, 10, 7, 9, 10, 14, 17, 18, 90, 15, 18, 23, 21, 22, 23, 25, 15, 15, 15, 16, 19, 23, 23, 28, 30, 12, 12, 11, 11, 12, 15, 12, 12, 11, 12, 9, 9, 10, 12, 12, 17, 22, 23, 22, 19, 14, 19, 19])\t[('AS', -365), ('XN', 0), ('XM', 30), ('XO', 16), ('XG', 71), ('NM', 101), ('MD', '1T0T15^CC0C0A38G1T1^TCT45A82A30G12T0C14^G14^G27^AC13A0G0T2G0C6T21A89A1G0C0G63A0T0G16G13T0C25G14T0'), ('YT', 'UU'), ('RG', 'group1'), ('XX', 99)]\n"
     ]
    }
   ],
   "source": [
    "for read in input_bam:\n",
    "    print(read)\n",
    "    break"
   ]
  },
  {
   "cell_type": "code",
   "execution_count": 4,
   "metadata": {},
   "outputs": [
    {
     "name": "stdout",
     "output_type": "stream",
     "text": [
      "SRR28230429.1817017.1\t2048\tNC_045512.2\t24\t60\t40H52M204H\t*\t0\t0\tGTAACAAACCAACCAACTTTTGATCTCTTGTAGATCTGTTCTCTAAACGAAC\t????????????????????????????????????????????????????\tNM:i:1\tMD:Z:20C31\tAS:i:47\tXS:i:0\tSA:Z:NC_045512.2,27385,+,83S22M1D74M1D115M2S,60,3;\tEP:i:32\tRG:Z:group1,group2\n",
      "SRR28230429.123.1\t16\tNC_045512.2\t24\t60\t35S55M1D95M1I15M1D25M1I15M\t*\t0\t0\tGGCAAACCACGCGAAGAAAAGGGAGCAGACCACACGTAACAAACCAACCAACTTTTGATCTCTTGTAGATCTGTTCTCTAAACGAACTTTAAATCTGTGTGGCTGTCACTCGGCTGCATGCTTAGTGCACTCACGCAGTATAATTAATAACTAATTACTGTCGTTGACAGGACACGAGTAACTCGTTCTATCTTCTGCAGGTGCTTACGGTTTCGTCCGTGTTGCAGGCCGATCATCAGCAC\t??????????????????????????????????????????????????????????????????????????????????????????????????????????????????????????????????????????????????????????????????????????????????????????????????????????????????????????????????????????????????\tNM:i:5\tMD:Z:20C34^A110^C40\tAS:i:172\tXS:i:0\tEP:i:10\tRG:Z:group1,group2\n",
      "SRR28230429.762.1\t0\tNC_045512.2\t25\t60\t24S206M\t*\t0\t0\tGCCTGGAGTTCAGTGCCATCATCCTAACAAACCAACCAACTTTTGATCTCTTGTAGATCTGTTCTCTAAACGAACTTTAAAATCTGTGTGGCTGTCACTCGGCTGCATGCTTAGTGCACTCACGCAGTATAATTAATAACTAATTACTGTCGTTGACAGGACACGAGTAACTCGTCTATCTTCTGCAGGCTGCTTACGGTTTCGTCCGTGTTGCAGCCGATCATCAGCAC\t??????????????????????????????????????????????????????????????????????????????????????????????????????????????????????????????????????????????????????????????????????????????????????????????????????????????????????????????????????\tNM:i:1\tMD:Z:19C186\tAS:i:201\tXS:i:0\tEP:i:15\tRG:Z:group1,group2\n",
      "SRR28230429.1076.1\t0\tNC_045512.2\t25\t60\t51M39S\t*\t0\t0\tAAACAAACCAACCAACTTTTGATCTCTTGTAGATCTGTTCTCTAAACGAACAAACTTAAATGTCTTGATAATGGACCCCAAAATCAGCGA\t??????????????????????????????????????????????????????????????????????????????????????????\tNM:i:2\tMD:Z:0T18C31\tAS:i:45\tXS:i:0\tSA:Z:NC_045512.2,28255,+,40S24M1I25M,51,2;\tEP:i:40\tRG:Z:group1,group2\n",
      "SRR28230429.3243.1\t0\tNC_045512.2\t25\t60\t206M\t*\t0\t0\tGAACAAACCAACCAACTTTTGATCTCTTGTAGATCTGTTCTCTAAACGAACTTTAAAATCTGTGTGGCTGTCACTCGGCTGCATGCTTAGTGCACTCACGCAGTATAATTAATAACTAATTACTGTCGTTGACAGGACACGAGTAACTCGTCTATCTTCTGCAGGCTGCTTACGGTTTCGTCCGTGTTGCAGCCGATCATCAGCAC\t??????????????????????????????????????????????????????????????????????????????????????????????????????????????????????????????????????????????????????????????????????????????????????????????????????????????\tNM:i:2\tMD:Z:0T18C186\tAS:i:200\tXS:i:0\tEP:i:4\tRG:Z:group1,group2\n",
      "samtools view: writing to standard output failed: Broken pipe\n",
      "samtools view: error closing standard output: -1\n"
     ]
    }
   ],
   "source": [
    "! samtools view output_multi.bam | head -n 5"
   ]
  },
  {
   "cell_type": "code",
   "execution_count": null,
   "metadata": {},
   "outputs": [],
   "source": []
  }
 ],
 "metadata": {
  "kernelspec": {
   "display_name": "wastewater",
   "language": "python",
   "name": "python3"
  },
  "language_info": {
   "codemirror_mode": {
    "name": "ipython",
    "version": 3
   },
   "file_extension": ".py",
   "mimetype": "text/x-python",
   "name": "python",
   "nbconvert_exporter": "python",
   "pygments_lexer": "ipython3",
   "version": "3.11.8"
  },
  "orig_nbformat": 4
 },
 "nbformat": 4,
 "nbformat_minor": 2
}
