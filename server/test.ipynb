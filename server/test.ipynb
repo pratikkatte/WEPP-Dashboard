{
 "cells": [
  {
   "cell_type": "code",
   "execution_count": 2,
   "metadata": {},
   "outputs": [],
   "source": [
    "import pysam"
   ]
  },
  {
   "cell_type": "code",
   "execution_count": 1,
   "metadata": {},
   "outputs": [],
   "source": [
    "def selectNodes(uploaded_filenames):\n",
    "    \"\"\"\n",
    "    \"\"\"\n",
    "    array = [\"USA/UT-UPHL-220121588727/2021\", \"EGY/CCHE57357_Wave_4_142/2021\"]\n",
    "    file_dict = {}\n",
    "    # saved_filenames = []\n",
    "    # if uploadtype=='file':\n",
    "    #     for file in uploaded_filenames:\n",
    "    #         filename = secure_filename(file.filename)\n",
    "    #         # Save file\n",
    "    #         save_path = os.path.join(app.config['UPLOAD_FOLDER'], filename)\n",
    "    #         file.save(save_path)\n",
    "    #         saved_filenames.append(filename)\n",
    "    # else:\n",
    "    #     saved_filenames = uploaded_filenames\n",
    "    print(uploaded_filenames)\n",
    "    for filename in uploaded_filenames:\n",
    "        try:\n",
    "            bam = pysam.AlignmentFile(filename, 'rb')\n",
    "            headers = bam.header\n",
    "            read_groups = headers.get('RG', [])\n",
    "            if read_groups==None:\n",
    "                file_dict[random.choice(array)] = {\"filename\": filename, \"groupname\": \"\"}\n",
    "            else:\n",
    "                if len(read_groups) > 0:\n",
    "                    for read_group in read_groups:\n",
    "                        node_name = read_group['DS'].replace(\"Node:\",\"\")\n",
    "                        group_name = read_group['ID']\n",
    "                        file_dict[node_name] = {\"filename\":filename, \"groupname\":group_name}\n",
    "        except Exception as e:\n",
    "            print(\"error\",e)\n",
    "            return file_dict\n",
    "        \n",
    "    print(\"file_dict\",file_dict)\n",
    "    return file_dict\n"
   ]
  },
  {
   "cell_type": "code",
   "execution_count": 5,
   "metadata": {},
   "outputs": [
    {
     "name": "stdout",
     "output_type": "stream",
     "text": [
      "['/home/pratik/git/taxonium/server/app/data/modified_example.bam']\n",
      "file_dict {'Germany/IMS-10209-CVDP-D48209F5-5BED-436E-BFC4-D2118C232BC4/2021': {'filename': '/home/pratik/git/taxonium/server/app/data/modified_example.bam', 'groupname': 'group1'}, 'England/PHEC-Z306ZA27/2021': {'filename': '/home/pratik/git/taxonium/server/app/data/modified_example.bam', 'groupname': 'group2'}, 'Germany/IMS-10023-CVDP-9F618D1B-27DC-4078-8537-C4F2C95A028E/2021': {'filename': '/home/pratik/git/taxonium/server/app/data/modified_example.bam', 'groupname': 'group3'}, 'USA/CA-CDC-ASC210274374/2021': {'filename': '/home/pratik/git/taxonium/server/app/data/modified_example.bam', 'groupname': 'group4'}, 'USA/WI-CDC-LC0062056/2021': {'filename': '/home/pratik/git/taxonium/server/app/data/modified_example.bam', 'groupname': 'group5'}, 'England/PHEC-5X086Z21/2022': {'filename': '/home/pratik/git/taxonium/server/app/data/modified_example.bam', 'groupname': 'group6'}, 'Germany/IMS-10183-CVDP-FB646A2A-A52E-4AD9-A820-1BBD23E9797E/2022': {'filename': '/home/pratik/git/taxonium/server/app/data/modified_example.bam', 'groupname': 'group7'}, 'England/DHSC-CYD3IMU/2021': {'filename': '/home/pratik/git/taxonium/server/app/data/modified_example.bam', 'groupname': 'group8'}, 'Switzerland/TI-ETHZ-34661679/2021': {'filename': '/home/pratik/git/taxonium/server/app/data/modified_example.bam', 'groupname': 'group9'}, 'deer/USA/OH-OSU-2327/2021': {'filename': '/home/pratik/git/taxonium/server/app/data/modified_example.bam', 'groupname': 'group10'}}\n"
     ]
    },
    {
     "data": {
      "text/plain": [
       "{'Germany/IMS-10209-CVDP-D48209F5-5BED-436E-BFC4-D2118C232BC4/2021': {'filename': '/home/pratik/git/taxonium/server/app/data/modified_example.bam',\n",
       "  'groupname': 'group1'},\n",
       " 'England/PHEC-Z306ZA27/2021': {'filename': '/home/pratik/git/taxonium/server/app/data/modified_example.bam',\n",
       "  'groupname': 'group2'},\n",
       " 'Germany/IMS-10023-CVDP-9F618D1B-27DC-4078-8537-C4F2C95A028E/2021': {'filename': '/home/pratik/git/taxonium/server/app/data/modified_example.bam',\n",
       "  'groupname': 'group3'},\n",
       " 'USA/CA-CDC-ASC210274374/2021': {'filename': '/home/pratik/git/taxonium/server/app/data/modified_example.bam',\n",
       "  'groupname': 'group4'},\n",
       " 'USA/WI-CDC-LC0062056/2021': {'filename': '/home/pratik/git/taxonium/server/app/data/modified_example.bam',\n",
       "  'groupname': 'group5'},\n",
       " 'England/PHEC-5X086Z21/2022': {'filename': '/home/pratik/git/taxonium/server/app/data/modified_example.bam',\n",
       "  'groupname': 'group6'},\n",
       " 'Germany/IMS-10183-CVDP-FB646A2A-A52E-4AD9-A820-1BBD23E9797E/2022': {'filename': '/home/pratik/git/taxonium/server/app/data/modified_example.bam',\n",
       "  'groupname': 'group7'},\n",
       " 'England/DHSC-CYD3IMU/2021': {'filename': '/home/pratik/git/taxonium/server/app/data/modified_example.bam',\n",
       "  'groupname': 'group8'},\n",
       " 'Switzerland/TI-ETHZ-34661679/2021': {'filename': '/home/pratik/git/taxonium/server/app/data/modified_example.bam',\n",
       "  'groupname': 'group9'},\n",
       " 'deer/USA/OH-OSU-2327/2021': {'filename': '/home/pratik/git/taxonium/server/app/data/modified_example.bam',\n",
       "  'groupname': 'group10'}}"
      ]
     },
     "execution_count": 5,
     "metadata": {},
     "output_type": "execute_result"
    }
   ],
   "source": [
    "files = ['/home/pratik/git/taxonium/server/app/data/modified_example.bam']\n",
    "selectNodes(files)"
   ]
  },
  {
   "cell_type": "code",
   "execution_count": null,
   "metadata": {},
   "outputs": [],
   "source": []
  }
 ],
 "metadata": {
  "kernelspec": {
   "display_name": "wastewater",
   "language": "python",
   "name": "python3"
  },
  "language_info": {
   "codemirror_mode": {
    "name": "ipython",
    "version": 3
   },
   "file_extension": ".py",
   "mimetype": "text/x-python",
   "name": "python",
   "nbconvert_exporter": "python",
   "pygments_lexer": "ipython3",
   "version": "3.11.8"
  },
  "orig_nbformat": 4
 },
 "nbformat": 4,
 "nbformat_minor": 2
}
